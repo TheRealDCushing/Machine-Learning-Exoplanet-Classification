{
 "cells": [
  {
   "cell_type": "code",
   "execution_count": 1,
   "metadata": {},
   "outputs": [
    {
     "data": {
      "text/html": [
       "<div>\n",
       "<style scoped>\n",
       "    .dataframe tbody tr th:only-of-type {\n",
       "        vertical-align: middle;\n",
       "    }\n",
       "\n",
       "    .dataframe tbody tr th {\n",
       "        vertical-align: top;\n",
       "    }\n",
       "\n",
       "    .dataframe thead th {\n",
       "        text-align: right;\n",
       "    }\n",
       "</style>\n",
       "<table border=\"1\" class=\"dataframe\">\n",
       "  <thead>\n",
       "    <tr style=\"text-align: right;\">\n",
       "      <th></th>\n",
       "      <th>koi_disposition</th>\n",
       "      <th>koi_fpflag_nt</th>\n",
       "      <th>koi_fpflag_ss</th>\n",
       "      <th>koi_fpflag_co</th>\n",
       "      <th>koi_fpflag_ec</th>\n",
       "      <th>koi_period</th>\n",
       "      <th>koi_period_err1</th>\n",
       "      <th>koi_period_err2</th>\n",
       "      <th>koi_time0bk</th>\n",
       "      <th>koi_time0bk_err1</th>\n",
       "      <th>...</th>\n",
       "      <th>koi_steff_err2</th>\n",
       "      <th>koi_slogg</th>\n",
       "      <th>koi_slogg_err1</th>\n",
       "      <th>koi_slogg_err2</th>\n",
       "      <th>koi_srad</th>\n",
       "      <th>koi_srad_err1</th>\n",
       "      <th>koi_srad_err2</th>\n",
       "      <th>ra</th>\n",
       "      <th>dec</th>\n",
       "      <th>koi_kepmag</th>\n",
       "    </tr>\n",
       "  </thead>\n",
       "  <tbody>\n",
       "    <tr>\n",
       "      <th>0</th>\n",
       "      <td>CONFIRMED</td>\n",
       "      <td>0</td>\n",
       "      <td>0</td>\n",
       "      <td>0</td>\n",
       "      <td>0</td>\n",
       "      <td>9.488036</td>\n",
       "      <td>2.775000e-05</td>\n",
       "      <td>-2.775000e-05</td>\n",
       "      <td>170.538750</td>\n",
       "      <td>0.002160</td>\n",
       "      <td>...</td>\n",
       "      <td>-81.0</td>\n",
       "      <td>4.467</td>\n",
       "      <td>0.064</td>\n",
       "      <td>-0.096</td>\n",
       "      <td>0.927</td>\n",
       "      <td>0.105</td>\n",
       "      <td>-0.061</td>\n",
       "      <td>291.93423</td>\n",
       "      <td>48.141651</td>\n",
       "      <td>15.347</td>\n",
       "    </tr>\n",
       "    <tr>\n",
       "      <th>1</th>\n",
       "      <td>CONFIRMED</td>\n",
       "      <td>0</td>\n",
       "      <td>0</td>\n",
       "      <td>0</td>\n",
       "      <td>0</td>\n",
       "      <td>54.418383</td>\n",
       "      <td>2.479000e-04</td>\n",
       "      <td>-2.479000e-04</td>\n",
       "      <td>162.513840</td>\n",
       "      <td>0.003520</td>\n",
       "      <td>...</td>\n",
       "      <td>-81.0</td>\n",
       "      <td>4.467</td>\n",
       "      <td>0.064</td>\n",
       "      <td>-0.096</td>\n",
       "      <td>0.927</td>\n",
       "      <td>0.105</td>\n",
       "      <td>-0.061</td>\n",
       "      <td>291.93423</td>\n",
       "      <td>48.141651</td>\n",
       "      <td>15.347</td>\n",
       "    </tr>\n",
       "    <tr>\n",
       "      <th>2</th>\n",
       "      <td>FALSE POSITIVE</td>\n",
       "      <td>0</td>\n",
       "      <td>1</td>\n",
       "      <td>0</td>\n",
       "      <td>0</td>\n",
       "      <td>19.899140</td>\n",
       "      <td>1.494000e-05</td>\n",
       "      <td>-1.494000e-05</td>\n",
       "      <td>175.850252</td>\n",
       "      <td>0.000581</td>\n",
       "      <td>...</td>\n",
       "      <td>-176.0</td>\n",
       "      <td>4.544</td>\n",
       "      <td>0.044</td>\n",
       "      <td>-0.176</td>\n",
       "      <td>0.868</td>\n",
       "      <td>0.233</td>\n",
       "      <td>-0.078</td>\n",
       "      <td>297.00482</td>\n",
       "      <td>48.134129</td>\n",
       "      <td>15.436</td>\n",
       "    </tr>\n",
       "    <tr>\n",
       "      <th>3</th>\n",
       "      <td>FALSE POSITIVE</td>\n",
       "      <td>0</td>\n",
       "      <td>1</td>\n",
       "      <td>0</td>\n",
       "      <td>0</td>\n",
       "      <td>1.736952</td>\n",
       "      <td>2.630000e-07</td>\n",
       "      <td>-2.630000e-07</td>\n",
       "      <td>170.307565</td>\n",
       "      <td>0.000115</td>\n",
       "      <td>...</td>\n",
       "      <td>-174.0</td>\n",
       "      <td>4.564</td>\n",
       "      <td>0.053</td>\n",
       "      <td>-0.168</td>\n",
       "      <td>0.791</td>\n",
       "      <td>0.201</td>\n",
       "      <td>-0.067</td>\n",
       "      <td>285.53461</td>\n",
       "      <td>48.285210</td>\n",
       "      <td>15.597</td>\n",
       "    </tr>\n",
       "    <tr>\n",
       "      <th>4</th>\n",
       "      <td>CONFIRMED</td>\n",
       "      <td>0</td>\n",
       "      <td>0</td>\n",
       "      <td>0</td>\n",
       "      <td>0</td>\n",
       "      <td>2.525592</td>\n",
       "      <td>3.761000e-06</td>\n",
       "      <td>-3.761000e-06</td>\n",
       "      <td>171.595550</td>\n",
       "      <td>0.001130</td>\n",
       "      <td>...</td>\n",
       "      <td>-211.0</td>\n",
       "      <td>4.438</td>\n",
       "      <td>0.070</td>\n",
       "      <td>-0.210</td>\n",
       "      <td>1.046</td>\n",
       "      <td>0.334</td>\n",
       "      <td>-0.133</td>\n",
       "      <td>288.75488</td>\n",
       "      <td>48.226200</td>\n",
       "      <td>15.509</td>\n",
       "    </tr>\n",
       "  </tbody>\n",
       "</table>\n",
       "<p>5 rows × 41 columns</p>\n",
       "</div>"
      ],
      "text/plain": [
       "  koi_disposition  koi_fpflag_nt  koi_fpflag_ss  koi_fpflag_co  koi_fpflag_ec  \\\n",
       "0       CONFIRMED              0              0              0              0   \n",
       "1       CONFIRMED              0              0              0              0   \n",
       "2  FALSE POSITIVE              0              1              0              0   \n",
       "3  FALSE POSITIVE              0              1              0              0   \n",
       "4       CONFIRMED              0              0              0              0   \n",
       "\n",
       "   koi_period  koi_period_err1  koi_period_err2  koi_time0bk  \\\n",
       "0    9.488036     2.775000e-05    -2.775000e-05   170.538750   \n",
       "1   54.418383     2.479000e-04    -2.479000e-04   162.513840   \n",
       "2   19.899140     1.494000e-05    -1.494000e-05   175.850252   \n",
       "3    1.736952     2.630000e-07    -2.630000e-07   170.307565   \n",
       "4    2.525592     3.761000e-06    -3.761000e-06   171.595550   \n",
       "\n",
       "   koi_time0bk_err1  ...  koi_steff_err2  koi_slogg  koi_slogg_err1  \\\n",
       "0          0.002160  ...           -81.0      4.467           0.064   \n",
       "1          0.003520  ...           -81.0      4.467           0.064   \n",
       "2          0.000581  ...          -176.0      4.544           0.044   \n",
       "3          0.000115  ...          -174.0      4.564           0.053   \n",
       "4          0.001130  ...          -211.0      4.438           0.070   \n",
       "\n",
       "   koi_slogg_err2  koi_srad  koi_srad_err1  koi_srad_err2         ra  \\\n",
       "0          -0.096     0.927          0.105         -0.061  291.93423   \n",
       "1          -0.096     0.927          0.105         -0.061  291.93423   \n",
       "2          -0.176     0.868          0.233         -0.078  297.00482   \n",
       "3          -0.168     0.791          0.201         -0.067  285.53461   \n",
       "4          -0.210     1.046          0.334         -0.133  288.75488   \n",
       "\n",
       "         dec  koi_kepmag  \n",
       "0  48.141651      15.347  \n",
       "1  48.141651      15.347  \n",
       "2  48.134129      15.436  \n",
       "3  48.285210      15.597  \n",
       "4  48.226200      15.509  \n",
       "\n",
       "[5 rows x 41 columns]"
      ]
     },
     "execution_count": 1,
     "metadata": {},
     "output_type": "execute_result"
    }
   ],
   "source": [
    "import pandas as pd\n",
    "df = pd.read_csv(\"cumulative.csv\")\n",
    "df = df.drop(columns=[\"rowid\", \"kepid\", \"kepoi_name\", \"kepler_name\", \"koi_pdisposition\", \"koi_score\", \"koi_tce_delivname\"])\n",
    "# Drop the null columns where all values are null\n",
    "df = df.dropna(axis='columns', how='all')\n",
    "# Drop the null rows\n",
    "df = df.dropna()\n",
    "df.head()"
   ]
  },
  {
   "cell_type": "code",
   "execution_count": 3,
   "metadata": {},
   "outputs": [
    {
     "data": {
      "text/plain": [
       "0         CONFIRMED\n",
       "1         CONFIRMED\n",
       "2    False_Positive\n",
       "3    False_Positive\n",
       "4         CONFIRMED\n",
       "Name: koi_disposition, dtype: object"
      ]
     },
     "execution_count": 3,
     "metadata": {},
     "output_type": "execute_result"
    }
   ],
   "source": [
    "mask = df[\"koi_disposition\"] == \"FALSE POSITIVE\"\n",
    "df.loc[mask, \"koi_disposition\"] = \"False_Positive\"\n",
    "df[\"koi_disposition\"].head()"
   ]
  },
  {
   "cell_type": "code",
   "execution_count": 4,
   "metadata": {},
   "outputs": [
    {
     "data": {
      "text/plain": [
       "0         CONFIRMED\n",
       "1         CONFIRMED\n",
       "2    False_Positive\n",
       "3    False_Positive\n",
       "4         CONFIRMED\n",
       "Name: koi_disposition, dtype: object"
      ]
     },
     "execution_count": 4,
     "metadata": {},
     "output_type": "execute_result"
    }
   ],
   "source": [
    "y = df[\"koi_disposition\"]\n",
    "X = df.drop(columns=[\"koi_disposition\"])\n",
    "y.head()"
   ]
  },
  {
   "cell_type": "code",
   "execution_count": 6,
   "metadata": {},
   "outputs": [
    {
     "name": "stderr",
     "output_type": "stream",
     "text": [
      "C:\\Users\\donis\\Anaconda3\\lib\\site-packages\\sklearn\\preprocessing\\data.py:334: DataConversionWarning: Data with input dtype int64, float64 were all converted to float64 by MinMaxScaler.\n",
      "  return self.partial_fit(X, y)\n"
     ]
    }
   ],
   "source": [
    "from sklearn.model_selection import train_test_split\n",
    "X_train, X_test, y_train, y_test = train_test_split(X, y, random_state=42, stratify=y)\n",
    "from sklearn.preprocessing import MinMaxScaler\n",
    "# from sklearn.preprocessing import StandardScaler\n",
    "\n",
    "X_scaler = MinMaxScaler().fit(X_train)\n",
    "\n",
    "X_train_scaled = X_scaler.transform(X_train)\n",
    "X_test_scaled = X_scaler.transform(X_test)"
   ]
  },
  {
   "cell_type": "code",
   "execution_count": 7,
   "metadata": {},
   "outputs": [
    {
     "name": "stderr",
     "output_type": "stream",
     "text": [
      "C:\\Users\\donis\\Anaconda3\\lib\\site-packages\\sklearn\\preprocessing\\data.py:334: DataConversionWarning: Data with input dtype int64, float64 were all converted to float64 by MinMaxScaler.\n",
      "  return self.partial_fit(X, y)\n"
     ]
    }
   ],
   "source": [
    "from sklearn.preprocessing import LabelEncoder, MinMaxScaler\n",
    "X_scaler = MinMaxScaler().fit(X_train)\n",
    "X_train_scaled = X_scaler.transform(X_train)\n",
    "X_test_scaled = X_scaler.transform(X_test)"
   ]
  },
  {
   "cell_type": "code",
   "execution_count": 8,
   "metadata": {},
   "outputs": [],
   "source": [
    "import tensorflow as tf\n",
    "from tensorflow.keras.models import Sequential\n",
    "from tensorflow.keras.utils import to_categorical\n",
    "from tensorflow.keras.layers import Dense"
   ]
  },
  {
   "cell_type": "code",
   "execution_count": 9,
   "metadata": {},
   "outputs": [],
   "source": [
    "label_encoder = LabelEncoder()\n",
    "label_encoder.fit(y_train)\n",
    "encoded_y_train = label_encoder.transform(y_train)\n",
    "encoded_y_test = label_encoder.transform(y_test)\n",
    "y_train_categorical = to_categorical(encoded_y_train)\n",
    "y_test_categorical = to_categorical(encoded_y_test)"
   ]
  },
  {
   "cell_type": "code",
   "execution_count": 14,
   "metadata": {},
   "outputs": [
    {
     "name": "stdout",
     "output_type": "stream",
     "text": [
      "WARNING:tensorflow:From C:\\Users\\donis\\Anaconda3\\lib\\site-packages\\tensorflow\\python\\ops\\resource_variable_ops.py:435: colocate_with (from tensorflow.python.framework.ops) is deprecated and will be removed in a future version.\n",
      "Instructions for updating:\n",
      "Colocations handled automatically by placer.\n"
     ]
    }
   ],
   "source": [
    "model = Sequential()\n",
    "model.add(Dense(units=100, activation='relu', input_dim=40))\n",
    "model.add(Dense(units=100, activation='relu'))\n",
    "model.add(Dense(units=3, activation='softmax'))"
   ]
  },
  {
   "cell_type": "code",
   "execution_count": 15,
   "metadata": {},
   "outputs": [],
   "source": [
    "model.compile(optimizer='adam',\n",
    "             loss='categorical_crossentropy',\n",
    "             metrics=['accuracy'])"
   ]
  },
  {
   "cell_type": "code",
   "execution_count": 16,
   "metadata": {},
   "outputs": [
    {
     "name": "stdout",
     "output_type": "stream",
     "text": [
      "WARNING:tensorflow:From C:\\Users\\donis\\Anaconda3\\lib\\site-packages\\tensorflow\\python\\ops\\math_ops.py:3066: to_int32 (from tensorflow.python.ops.math_ops) is deprecated and will be removed in a future version.\n",
      "Instructions for updating:\n",
      "Use tf.cast instead.\n",
      "Epoch 1/100\n",
      " - 1s - loss: 0.5329 - acc: 0.7386\n",
      "Epoch 2/100\n",
      " - 0s - loss: 0.3686 - acc: 0.8097\n",
      "Epoch 3/100\n",
      " - 0s - loss: 0.3516 - acc: 0.8263\n",
      "Epoch 4/100\n",
      " - 0s - loss: 0.3417 - acc: 0.8339\n",
      "Epoch 5/100\n",
      " - 0s - loss: 0.3317 - acc: 0.8472\n",
      "Epoch 6/100\n",
      " - 0s - loss: 0.3262 - acc: 0.8468\n",
      "Epoch 7/100\n",
      " - 0s - loss: 0.3238 - acc: 0.8464\n",
      "Epoch 8/100\n",
      " - 0s - loss: 0.3179 - acc: 0.8556\n",
      "Epoch 9/100\n",
      " - 0s - loss: 0.3139 - acc: 0.8530\n",
      "Epoch 10/100\n",
      " - 0s - loss: 0.3134 - acc: 0.8559\n",
      "Epoch 11/100\n",
      " - 0s - loss: 0.3007 - acc: 0.8644\n",
      "Epoch 12/100\n",
      " - 0s - loss: 0.3000 - acc: 0.8690\n",
      "Epoch 13/100\n",
      " - 0s - loss: 0.3016 - acc: 0.8620\n",
      "Epoch 14/100\n",
      " - 0s - loss: 0.2944 - acc: 0.8683\n",
      "Epoch 15/100\n",
      " - 1s - loss: 0.2880 - acc: 0.8734\n",
      "Epoch 16/100\n",
      " - 0s - loss: 0.2936 - acc: 0.8687\n",
      "Epoch 17/100\n",
      " - 0s - loss: 0.2860 - acc: 0.8768\n",
      "Epoch 18/100\n",
      " - 0s - loss: 0.2845 - acc: 0.8762\n",
      "Epoch 19/100\n",
      " - 0s - loss: 0.2835 - acc: 0.8759\n",
      "Epoch 20/100\n",
      " - 0s - loss: 0.2802 - acc: 0.8747\n",
      "Epoch 21/100\n",
      " - 0s - loss: 0.2723 - acc: 0.8824\n",
      "Epoch 22/100\n",
      " - 1s - loss: 0.2808 - acc: 0.8762\n",
      "Epoch 23/100\n",
      " - 0s - loss: 0.2805 - acc: 0.8803\n",
      "Epoch 24/100\n",
      " - 0s - loss: 0.2735 - acc: 0.8829\n",
      "Epoch 25/100\n",
      " - 0s - loss: 0.2747 - acc: 0.8769\n",
      "Epoch 26/100\n",
      " - 0s - loss: 0.2691 - acc: 0.8829\n",
      "Epoch 27/100\n",
      " - 0s - loss: 0.2686 - acc: 0.8844\n",
      "Epoch 28/100\n",
      " - 0s - loss: 0.2693 - acc: 0.8838\n",
      "Epoch 29/100\n",
      " - 0s - loss: 0.2674 - acc: 0.8823\n",
      "Epoch 30/100\n",
      " - 0s - loss: 0.2641 - acc: 0.8858\n",
      "Epoch 31/100\n",
      " - 0s - loss: 0.2645 - acc: 0.8858\n",
      "Epoch 32/100\n",
      " - 0s - loss: 0.2645 - acc: 0.8809\n",
      "Epoch 33/100\n",
      " - 0s - loss: 0.2626 - acc: 0.8843\n",
      "Epoch 34/100\n",
      " - 0s - loss: 0.2630 - acc: 0.8870\n",
      "Epoch 35/100\n",
      " - 0s - loss: 0.2637 - acc: 0.8823\n",
      "Epoch 36/100\n",
      " - 0s - loss: 0.2567 - acc: 0.8888\n",
      "Epoch 37/100\n",
      " - 1s - loss: 0.2622 - acc: 0.8833\n",
      "Epoch 38/100\n",
      " - 0s - loss: 0.2578 - acc: 0.8873\n",
      "Epoch 39/100\n",
      " - 0s - loss: 0.2592 - acc: 0.8846\n",
      "Epoch 40/100\n",
      " - 0s - loss: 0.2571 - acc: 0.8838\n",
      "Epoch 41/100\n",
      " - 0s - loss: 0.2546 - acc: 0.8878\n",
      "Epoch 42/100\n",
      " - 0s - loss: 0.2508 - acc: 0.8896\n",
      "Epoch 43/100\n",
      " - 0s - loss: 0.2480 - acc: 0.8939\n",
      "Epoch 44/100\n",
      " - 0s - loss: 0.2514 - acc: 0.8875\n",
      "Epoch 45/100\n",
      " - 0s - loss: 0.2529 - acc: 0.8907\n",
      "Epoch 46/100\n",
      " - 0s - loss: 0.2497 - acc: 0.8940\n",
      "Epoch 47/100\n",
      " - 0s - loss: 0.2475 - acc: 0.8949\n",
      "Epoch 48/100\n",
      " - 0s - loss: 0.2490 - acc: 0.8930\n",
      "Epoch 49/100\n",
      " - 0s - loss: 0.2486 - acc: 0.8902\n",
      "Epoch 50/100\n",
      " - 0s - loss: 0.2444 - acc: 0.8898\n",
      "Epoch 51/100\n",
      " - 0s - loss: 0.2471 - acc: 0.8908\n",
      "Epoch 52/100\n",
      " - 0s - loss: 0.2444 - acc: 0.8927\n",
      "Epoch 53/100\n",
      " - 0s - loss: 0.2494 - acc: 0.8902\n",
      "Epoch 54/100\n",
      " - 0s - loss: 0.2430 - acc: 0.8948\n",
      "Epoch 55/100\n",
      " - 0s - loss: 0.2483 - acc: 0.8867\n",
      "Epoch 56/100\n",
      " - 0s - loss: 0.2500 - acc: 0.8893\n",
      "Epoch 57/100\n",
      " - 0s - loss: 0.2418 - acc: 0.8949\n",
      "Epoch 58/100\n",
      " - 0s - loss: 0.2366 - acc: 0.8983\n",
      "Epoch 59/100\n",
      " - 0s - loss: 0.2458 - acc: 0.8905\n",
      "Epoch 60/100\n",
      " - 0s - loss: 0.2397 - acc: 0.8963\n",
      "Epoch 61/100\n",
      " - 0s - loss: 0.2416 - acc: 0.8930\n",
      "Epoch 62/100\n",
      " - 0s - loss: 0.2381 - acc: 0.8954\n",
      "Epoch 63/100\n",
      " - 0s - loss: 0.2354 - acc: 0.8989\n",
      "Epoch 64/100\n",
      " - 0s - loss: 0.2379 - acc: 0.8960\n",
      "Epoch 65/100\n",
      " - 0s - loss: 0.2449 - acc: 0.8917\n",
      "Epoch 66/100\n",
      " - 0s - loss: 0.2440 - acc: 0.8928\n",
      "Epoch 67/100\n",
      " - 0s - loss: 0.2378 - acc: 0.8954\n",
      "Epoch 68/100\n",
      " - 0s - loss: 0.2390 - acc: 0.8933\n",
      "Epoch 69/100\n",
      " - 0s - loss: 0.2342 - acc: 0.8959\n",
      "Epoch 70/100\n",
      " - 1s - loss: 0.2300 - acc: 0.8998\n",
      "Epoch 71/100\n",
      " - 0s - loss: 0.2321 - acc: 0.9007\n",
      "Epoch 72/100\n",
      " - 0s - loss: 0.2368 - acc: 0.8942\n",
      "Epoch 73/100\n",
      " - 0s - loss: 0.2332 - acc: 0.8971\n",
      "Epoch 74/100\n",
      " - 0s - loss: 0.2310 - acc: 0.8968\n",
      "Epoch 75/100\n",
      " - 0s - loss: 0.2301 - acc: 0.9009\n",
      "Epoch 76/100\n",
      " - 0s - loss: 0.2301 - acc: 0.9006\n",
      "Epoch 77/100\n",
      " - 0s - loss: 0.2320 - acc: 0.9004\n",
      "Epoch 78/100\n",
      " - 0s - loss: 0.2348 - acc: 0.8971\n",
      "Epoch 79/100\n",
      " - 0s - loss: 0.2326 - acc: 0.8983\n",
      "Epoch 80/100\n",
      " - 0s - loss: 0.2290 - acc: 0.8974\n",
      "Epoch 81/100\n",
      " - 0s - loss: 0.2267 - acc: 0.8992\n",
      "Epoch 82/100\n",
      " - 0s - loss: 0.2302 - acc: 0.8992\n",
      "Epoch 83/100\n",
      " - 0s - loss: 0.2264 - acc: 0.8992\n",
      "Epoch 84/100\n",
      " - 0s - loss: 0.2267 - acc: 0.8980\n",
      "Epoch 85/100\n",
      " - 0s - loss: 0.2287 - acc: 0.9001\n",
      "Epoch 86/100\n",
      " - 0s - loss: 0.2256 - acc: 0.9020\n",
      "Epoch 87/100\n",
      " - 0s - loss: 0.2287 - acc: 0.8989\n",
      "Epoch 88/100\n",
      " - 0s - loss: 0.2300 - acc: 0.8987\n",
      "Epoch 89/100\n",
      " - 0s - loss: 0.2251 - acc: 0.9004\n",
      "Epoch 90/100\n",
      " - 0s - loss: 0.2236 - acc: 0.9023\n",
      "Epoch 91/100\n",
      " - 0s - loss: 0.2272 - acc: 0.9010\n",
      "Epoch 92/100\n",
      " - 0s - loss: 0.2295 - acc: 0.9007\n",
      "Epoch 93/100\n",
      " - 0s - loss: 0.2226 - acc: 0.9026\n",
      "Epoch 94/100\n",
      " - 0s - loss: 0.2245 - acc: 0.9038\n",
      "Epoch 95/100\n",
      " - 0s - loss: 0.2338 - acc: 0.8936\n",
      "Epoch 96/100\n",
      " - 0s - loss: 0.2245 - acc: 0.9024\n",
      "Epoch 97/100\n",
      " - 0s - loss: 0.2226 - acc: 0.9010\n",
      "Epoch 98/100\n",
      " - 0s - loss: 0.2216 - acc: 0.9030\n",
      "Epoch 99/100\n",
      " - 0s - loss: 0.2233 - acc: 0.9053\n",
      "Epoch 100/100\n",
      " - 0s - loss: 0.2206 - acc: 0.9021\n"
     ]
    },
    {
     "data": {
      "text/plain": [
       "<tensorflow.python.keras.callbacks.History at 0x18e0f3c7630>"
      ]
     },
     "execution_count": 16,
     "metadata": {},
     "output_type": "execute_result"
    }
   ],
   "source": [
    "model.fit(\n",
    "    X_train_scaled,\n",
    "    y_train_categorical,\n",
    "    epochs=100,\n",
    "    shuffle=True,\n",
    "    verbose=2\n",
    ")"
   ]
  },
  {
   "cell_type": "code",
   "execution_count": 17,
   "metadata": {},
   "outputs": [
    {
     "name": "stdout",
     "output_type": "stream",
     "text": [
      " - 0s - loss: 0.2821 - acc: 0.8760\n",
      "Normal Neural Network - Loss: 0.2821025672246858, Accuracy: 0.8760292530059814\n"
     ]
    }
   ],
   "source": [
    "model_loss, model_accuracy = model.evaluate(\n",
    "   X_test_scaled, y_test_categorical, verbose=2)\n",
    "print(\n",
    "   f\"Normal Neural Network - Loss: {model_loss}, Accuracy: {model_accuracy}\")"
   ]
  },
  {
   "cell_type": "code",
   "execution_count": 25,
   "metadata": {},
   "outputs": [],
   "source": [
    "encoded_predictions = model.predict_classes(X_test_scaled[:10])\n",
    "prediction_labels = label_encoder.inverse_transform(encoded_predictions)"
   ]
  },
  {
   "cell_type": "code",
   "execution_count": 26,
   "metadata": {},
   "outputs": [
    {
     "data": {
      "text/plain": [
       "array([2, 1, 2, 2, 1, 2, 2, 1, 1, 0], dtype=int64)"
      ]
     },
     "execution_count": 26,
     "metadata": {},
     "output_type": "execute_result"
    }
   ],
   "source": [
    "encoded_predictions"
   ]
  },
  {
   "cell_type": "code",
   "execution_count": 27,
   "metadata": {},
   "outputs": [
    {
     "data": {
      "text/plain": [
       "array(['False_Positive', 'CONFIRMED', 'False_Positive', 'False_Positive',\n",
       "       'CONFIRMED', 'False_Positive', 'False_Positive', 'CONFIRMED',\n",
       "       'CONFIRMED', 'CANDIDATE'], dtype=object)"
      ]
     },
     "execution_count": 27,
     "metadata": {},
     "output_type": "execute_result"
    }
   ],
   "source": [
    "prediction_labels"
   ]
  },
  {
   "cell_type": "code",
   "execution_count": 28,
   "metadata": {},
   "outputs": [
    {
     "name": "stdout",
     "output_type": "stream",
     "text": [
      "Predicted classes: ['False_Positive' 'CONFIRMED' 'False_Positive' 'False_Positive'\n",
      " 'CONFIRMED' 'False_Positive' 'False_Positive' 'CONFIRMED' 'CONFIRMED'\n",
      " 'CANDIDATE']\n",
      "Actual Labels: ['False_Positive', 'CONFIRMED', 'False_Positive', 'False_Positive', 'CONFIRMED', 'False_Positive', 'False_Positive', 'CONFIRMED', 'CONFIRMED', 'CANDIDATE']\n"
     ]
    }
   ],
   "source": [
    "print(f\"Predicted classes: {prediction_labels}\")\n",
    "print(f\"Actual Labels: {list(y_test[:10])}\")"
   ]
  },
  {
   "cell_type": "code",
   "execution_count": null,
   "metadata": {},
   "outputs": [],
   "source": []
  }
 ],
 "metadata": {
  "kernelspec": {
   "display_name": "Python 3",
   "language": "python",
   "name": "python3"
  },
  "language_info": {
   "codemirror_mode": {
    "name": "ipython",
    "version": 3
   },
   "file_extension": ".py",
   "mimetype": "text/x-python",
   "name": "python",
   "nbconvert_exporter": "python",
   "pygments_lexer": "ipython3",
   "version": "3.7.3"
  }
 },
 "nbformat": 4,
 "nbformat_minor": 2
}
